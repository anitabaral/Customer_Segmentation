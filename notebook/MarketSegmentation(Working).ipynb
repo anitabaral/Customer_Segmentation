{
  "nbformat": 4,
  "nbformat_minor": 0,
  "metadata": {
    "colab": {
      "name": "MarketSegmentation(Working).ipynb",
      "provenance": [],
      "collapsed_sections": []
    },
    "kernelspec": {
      "name": "python3",
      "display_name": "Python 3"
    },
    "language_info": {
      "name": "python"
    }
  },
  "cells": [
    {
      "cell_type": "markdown",
      "metadata": {
        "id": "_-zD5TuAYyID"
      },
      "source": [
        "Objective: To find the clusters among the customers, such that new customer can be allocated to one of those clusters and "
      ]
    },
    {
      "cell_type": "code",
      "metadata": {
        "colab": {
          "base_uri": "https://localhost:8080/"
        },
        "id": "AQaF8_zzbGBr",
        "outputId": "7c3d78eb-9937-44c4-c699-bb0efd182e5f"
      },
      "source": [
        "from google.colab import drive\n",
        "drive.mount('/content/drive')"
      ],
      "execution_count": null,
      "outputs": [
        {
          "output_type": "stream",
          "text": [
            "Drive already mounted at /content/drive; to attempt to forcibly remount, call drive.mount(\"/content/drive\", force_remount=True).\n"
          ],
          "name": "stdout"
        }
      ]
    },
    {
      "cell_type": "code",
      "metadata": {
        "id": "QcaecaAZb-s7"
      },
      "source": [
        "import warnings\n",
        "warnings.filterwarnings('ignore')\n",
        "from collections import defaultdict\n",
        "\n",
        "import numpy as np\n",
        "import pandas as pd\n",
        "from pathlib import Path\n"
      ],
      "execution_count": null,
      "outputs": []
    },
    {
      "cell_type": "code",
      "metadata": {
        "id": "S0W1LtN5bHoB"
      },
      "source": [
        "def loadCsv(path):\n",
        "\n",
        "  csv_path = Path(path)\n",
        "  if csv_path.is_file():\n",
        "    data = pd.read_csv(csv_path, encoding= 'unicode_escape')\n",
        "  else:\n",
        "    raise ValueError('Error while reading the csv file.')\n",
        "  return data\n",
        "\n",
        "commerce_data = loadCsv('/content/drive/MyDrive/Leapfrog_internship/Major Project/data.csv')"
      ],
      "execution_count": null,
      "outputs": []
    },
    {
      "cell_type": "code",
      "metadata": {
        "colab": {
          "base_uri": "https://localhost:8080/",
          "height": 159
        },
        "id": "JdzMQ_QWb9EH",
        "outputId": "47e3f14f-a1fb-4f11-c580-585676ec339e"
      },
      "source": [
        "print('Shape of the data:{}'.format(commerce_data.shape))\n",
        "commerce_data.head(3)"
      ],
      "execution_count": null,
      "outputs": [
        {
          "output_type": "stream",
          "text": [
            "Shape of the data:(541909, 8)\n"
          ],
          "name": "stdout"
        },
        {
          "output_type": "execute_result",
          "data": {
            "text/html": [
              "<div>\n",
              "<style scoped>\n",
              "    .dataframe tbody tr th:only-of-type {\n",
              "        vertical-align: middle;\n",
              "    }\n",
              "\n",
              "    .dataframe tbody tr th {\n",
              "        vertical-align: top;\n",
              "    }\n",
              "\n",
              "    .dataframe thead th {\n",
              "        text-align: right;\n",
              "    }\n",
              "</style>\n",
              "<table border=\"1\" class=\"dataframe\">\n",
              "  <thead>\n",
              "    <tr style=\"text-align: right;\">\n",
              "      <th></th>\n",
              "      <th>InvoiceNo</th>\n",
              "      <th>StockCode</th>\n",
              "      <th>Description</th>\n",
              "      <th>Quantity</th>\n",
              "      <th>InvoiceDate</th>\n",
              "      <th>UnitPrice</th>\n",
              "      <th>CustomerID</th>\n",
              "      <th>Country</th>\n",
              "    </tr>\n",
              "  </thead>\n",
              "  <tbody>\n",
              "    <tr>\n",
              "      <th>0</th>\n",
              "      <td>536365</td>\n",
              "      <td>85123A</td>\n",
              "      <td>WHITE HANGING HEART T-LIGHT HOLDER</td>\n",
              "      <td>6</td>\n",
              "      <td>12/1/2010 8:26</td>\n",
              "      <td>2.55</td>\n",
              "      <td>17850.0</td>\n",
              "      <td>United Kingdom</td>\n",
              "    </tr>\n",
              "    <tr>\n",
              "      <th>1</th>\n",
              "      <td>536365</td>\n",
              "      <td>71053</td>\n",
              "      <td>WHITE METAL LANTERN</td>\n",
              "      <td>6</td>\n",
              "      <td>12/1/2010 8:26</td>\n",
              "      <td>3.39</td>\n",
              "      <td>17850.0</td>\n",
              "      <td>United Kingdom</td>\n",
              "    </tr>\n",
              "    <tr>\n",
              "      <th>2</th>\n",
              "      <td>536365</td>\n",
              "      <td>84406B</td>\n",
              "      <td>CREAM CUPID HEARTS COAT HANGER</td>\n",
              "      <td>8</td>\n",
              "      <td>12/1/2010 8:26</td>\n",
              "      <td>2.75</td>\n",
              "      <td>17850.0</td>\n",
              "      <td>United Kingdom</td>\n",
              "    </tr>\n",
              "  </tbody>\n",
              "</table>\n",
              "</div>"
            ],
            "text/plain": [
              "  InvoiceNo StockCode  ... CustomerID         Country\n",
              "0    536365    85123A  ...    17850.0  United Kingdom\n",
              "1    536365     71053  ...    17850.0  United Kingdom\n",
              "2    536365    84406B  ...    17850.0  United Kingdom\n",
              "\n",
              "[3 rows x 8 columns]"
            ]
          },
          "metadata": {},
          "execution_count": 153
        }
      ]
    },
    {
      "cell_type": "markdown",
      "metadata": {
        "id": "wEBG17T-joCd"
      },
      "source": [
        "Information about the dataset\n",
        "* Total number of features: 8\n",
        "* Total number of examples: 541909\n",
        "* Categorical features: Description, Country\n",
        "* Nominal features: InvoiceNo, StockCode, Customer ID\n",
        "* Numeral features: Quantity, UnitPrice\n",
        "* Date and time feature: Invoice date"
      ]
    },
    {
      "cell_type": "markdown",
      "metadata": {
        "id": "HQnDIdsdeMFH"
      },
      "source": [
        "Arrtibute Information:\n",
        "\n",
        "* InvoiceNo: Nominal, a 6-digit integral number uniquely assigned to each transaction. If this code starts with letter 'c', it indicates a cancellation.\n",
        "* StockCode: Product (item) code. Nominal, a 5-digit integral number uniquely assigned to each distinct product.\n",
        "* Description: Product (item) name. Nominal.\n",
        "* Quantity: The quantities of each product (item) per transaction. Numeric.\n",
        "* InvoiceDate: Invice Date and time. Numeric, the day and time when each transaction was generated.\n",
        "* UnitPrice: Unit price. Numeric, Product price per unit in sterling.\n",
        "* CustomerID: Customer number. Nominal, a 5-digit integral number uniquely assigned to each customer.\n",
        "* Country: Country name. Nominal, the name of the country where each customer resides.\n"
      ]
    },
    {
      "cell_type": "markdown",
      "metadata": {
        "id": "M5XayLPZe2PD"
      },
      "source": [
        "**Nominal Data** is defined as data that is used for naming or labelling variables, without any quantitative value. It is sometimes called “named” data - a meaning coined from the word nominal.\n",
        "\n",
        "Here, InvoiceNo, StockCode and Description are nominal data."
      ]
    },
    {
      "cell_type": "code",
      "metadata": {
        "id": "JjIhMNYsY-wn"
      },
      "source": [
        "commerce_data.rename(index=str, columns={'InvoiceNo': 'invoice_num',\n",
        "                              'StockCode' : 'stock_code',\n",
        "                              'Description' : 'description',\n",
        "                              'Quantity' : 'quantity',\n",
        "                              'InvoiceDate' : 'invoice_date',\n",
        "                              'UnitPrice' : 'unit_price',\n",
        "                              'CustomerID' : 'customer_id',\n",
        "                              'Country' : 'country'}, inplace=True)"
      ],
      "execution_count": null,
      "outputs": []
    },
    {
      "cell_type": "code",
      "metadata": {
        "colab": {
          "base_uri": "https://localhost:8080/",
          "height": 297
        },
        "id": "d80MbmFaGj4H",
        "outputId": "126b3e81-054b-46c7-bd4a-1a61b2867e08"
      },
      "source": [
        "def get_attributes_info(data):\n",
        "\n",
        "  info = defaultdict(list)\n",
        "  info['Count'], info['dtypes']  = data.count(), data.dtypes.values\n",
        "  info['Missing_values'] = data.isnull().sum().values\n",
        "  info['Missing_values (%)'] = info['Missing_values'] / data.shape[0] * 100\n",
        "  info['Unique'] = data.nunique()\n",
        "  attributes_info = pd.DataFrame(info)\n",
        "\n",
        "  return attributes_info\n",
        "\n",
        "attributes_info = get_attributes_info(commerce_data)\n",
        "attributes_info"
      ],
      "execution_count": null,
      "outputs": [
        {
          "output_type": "execute_result",
          "data": {
            "text/html": [
              "<div>\n",
              "<style scoped>\n",
              "    .dataframe tbody tr th:only-of-type {\n",
              "        vertical-align: middle;\n",
              "    }\n",
              "\n",
              "    .dataframe tbody tr th {\n",
              "        vertical-align: top;\n",
              "    }\n",
              "\n",
              "    .dataframe thead th {\n",
              "        text-align: right;\n",
              "    }\n",
              "</style>\n",
              "<table border=\"1\" class=\"dataframe\">\n",
              "  <thead>\n",
              "    <tr style=\"text-align: right;\">\n",
              "      <th></th>\n",
              "      <th>Count</th>\n",
              "      <th>dtypes</th>\n",
              "      <th>Missing_values</th>\n",
              "      <th>Missing_values (%)</th>\n",
              "      <th>Unique</th>\n",
              "    </tr>\n",
              "  </thead>\n",
              "  <tbody>\n",
              "    <tr>\n",
              "      <th>invoice_num</th>\n",
              "      <td>541909</td>\n",
              "      <td>object</td>\n",
              "      <td>0</td>\n",
              "      <td>0.000000</td>\n",
              "      <td>25900</td>\n",
              "    </tr>\n",
              "    <tr>\n",
              "      <th>stock_code</th>\n",
              "      <td>541909</td>\n",
              "      <td>object</td>\n",
              "      <td>0</td>\n",
              "      <td>0.000000</td>\n",
              "      <td>4070</td>\n",
              "    </tr>\n",
              "    <tr>\n",
              "      <th>description</th>\n",
              "      <td>540455</td>\n",
              "      <td>object</td>\n",
              "      <td>1454</td>\n",
              "      <td>0.268311</td>\n",
              "      <td>4223</td>\n",
              "    </tr>\n",
              "    <tr>\n",
              "      <th>quantity</th>\n",
              "      <td>541909</td>\n",
              "      <td>int64</td>\n",
              "      <td>0</td>\n",
              "      <td>0.000000</td>\n",
              "      <td>722</td>\n",
              "    </tr>\n",
              "    <tr>\n",
              "      <th>invoice_date</th>\n",
              "      <td>541909</td>\n",
              "      <td>object</td>\n",
              "      <td>0</td>\n",
              "      <td>0.000000</td>\n",
              "      <td>23260</td>\n",
              "    </tr>\n",
              "    <tr>\n",
              "      <th>unit_price</th>\n",
              "      <td>541909</td>\n",
              "      <td>float64</td>\n",
              "      <td>0</td>\n",
              "      <td>0.000000</td>\n",
              "      <td>1630</td>\n",
              "    </tr>\n",
              "    <tr>\n",
              "      <th>customer_id</th>\n",
              "      <td>406829</td>\n",
              "      <td>float64</td>\n",
              "      <td>135080</td>\n",
              "      <td>24.926694</td>\n",
              "      <td>4372</td>\n",
              "    </tr>\n",
              "    <tr>\n",
              "      <th>country</th>\n",
              "      <td>541909</td>\n",
              "      <td>object</td>\n",
              "      <td>0</td>\n",
              "      <td>0.000000</td>\n",
              "      <td>38</td>\n",
              "    </tr>\n",
              "  </tbody>\n",
              "</table>\n",
              "</div>"
            ],
            "text/plain": [
              "               Count   dtypes  Missing_values  Missing_values (%)  Unique\n",
              "invoice_num   541909   object               0            0.000000   25900\n",
              "stock_code    541909   object               0            0.000000    4070\n",
              "description   540455   object            1454            0.268311    4223\n",
              "quantity      541909    int64               0            0.000000     722\n",
              "invoice_date  541909   object               0            0.000000   23260\n",
              "unit_price    541909  float64               0            0.000000    1630\n",
              "customer_id   406829  float64          135080           24.926694    4372\n",
              "country       541909   object               0            0.000000      38"
            ]
          },
          "metadata": {},
          "execution_count": 155
        }
      ]
    },
    {
      "cell_type": "markdown",
      "metadata": {
        "id": "EPmQ0O_r1Pq3"
      },
      "source": [
        "######From Missing_values and Missing_values (%):\n",
        "* Almost 25% of Customer Id's are missing along with 0.27% of Descriptions missing out.\n",
        "* These missing values add a lot of uncertainities in the analysis, so further looking at them in deep. \n"
      ]
    },
    {
      "cell_type": "markdown",
      "metadata": {
        "id": "jWChEuGt8wd_"
      },
      "source": [
        "> Analysing the relationship between missing description and customer_id."
      ]
    },
    {
      "cell_type": "code",
      "metadata": {
        "colab": {
          "base_uri": "https://localhost:8080/",
          "height": 142
        },
        "id": "2i69lr1l485t",
        "outputId": "2187ae66-e7ed-4cf8-8ca8-20dd0abc5fc8"
      },
      "source": [
        "commerce_data[commerce_data.description.isnull()].head(n = 3)"
      ],
      "execution_count": null,
      "outputs": [
        {
          "output_type": "execute_result",
          "data": {
            "text/html": [
              "<div>\n",
              "<style scoped>\n",
              "    .dataframe tbody tr th:only-of-type {\n",
              "        vertical-align: middle;\n",
              "    }\n",
              "\n",
              "    .dataframe tbody tr th {\n",
              "        vertical-align: top;\n",
              "    }\n",
              "\n",
              "    .dataframe thead th {\n",
              "        text-align: right;\n",
              "    }\n",
              "</style>\n",
              "<table border=\"1\" class=\"dataframe\">\n",
              "  <thead>\n",
              "    <tr style=\"text-align: right;\">\n",
              "      <th></th>\n",
              "      <th>invoice_num</th>\n",
              "      <th>stock_code</th>\n",
              "      <th>description</th>\n",
              "      <th>quantity</th>\n",
              "      <th>invoice_date</th>\n",
              "      <th>unit_price</th>\n",
              "      <th>customer_id</th>\n",
              "      <th>country</th>\n",
              "    </tr>\n",
              "  </thead>\n",
              "  <tbody>\n",
              "    <tr>\n",
              "      <th>622</th>\n",
              "      <td>536414</td>\n",
              "      <td>22139</td>\n",
              "      <td>NaN</td>\n",
              "      <td>56</td>\n",
              "      <td>12/1/2010 11:52</td>\n",
              "      <td>0.0</td>\n",
              "      <td>NaN</td>\n",
              "      <td>United Kingdom</td>\n",
              "    </tr>\n",
              "    <tr>\n",
              "      <th>1970</th>\n",
              "      <td>536545</td>\n",
              "      <td>21134</td>\n",
              "      <td>NaN</td>\n",
              "      <td>1</td>\n",
              "      <td>12/1/2010 14:32</td>\n",
              "      <td>0.0</td>\n",
              "      <td>NaN</td>\n",
              "      <td>United Kingdom</td>\n",
              "    </tr>\n",
              "    <tr>\n",
              "      <th>1971</th>\n",
              "      <td>536546</td>\n",
              "      <td>22145</td>\n",
              "      <td>NaN</td>\n",
              "      <td>1</td>\n",
              "      <td>12/1/2010 14:33</td>\n",
              "      <td>0.0</td>\n",
              "      <td>NaN</td>\n",
              "      <td>United Kingdom</td>\n",
              "    </tr>\n",
              "  </tbody>\n",
              "</table>\n",
              "</div>"
            ],
            "text/plain": [
              "     invoice_num stock_code  ... customer_id         country\n",
              "622       536414      22139  ...         NaN  United Kingdom\n",
              "1970      536545      21134  ...         NaN  United Kingdom\n",
              "1971      536546      22145  ...         NaN  United Kingdom\n",
              "\n",
              "[3 rows x 8 columns]"
            ]
          },
          "metadata": {},
          "execution_count": 156
        }
      ]
    },
    {
      "cell_type": "code",
      "metadata": {
        "colab": {
          "base_uri": "https://localhost:8080/",
          "height": 142
        },
        "id": "2KL6UphA1RPA",
        "outputId": "5b137059-4611-4f52-e486-3714b5a753ca"
      },
      "source": [
        "commerce_data[commerce_data.description.isnull()].tail(n = 3)"
      ],
      "execution_count": null,
      "outputs": [
        {
          "output_type": "execute_result",
          "data": {
            "text/html": [
              "<div>\n",
              "<style scoped>\n",
              "    .dataframe tbody tr th:only-of-type {\n",
              "        vertical-align: middle;\n",
              "    }\n",
              "\n",
              "    .dataframe tbody tr th {\n",
              "        vertical-align: top;\n",
              "    }\n",
              "\n",
              "    .dataframe thead th {\n",
              "        text-align: right;\n",
              "    }\n",
              "</style>\n",
              "<table border=\"1\" class=\"dataframe\">\n",
              "  <thead>\n",
              "    <tr style=\"text-align: right;\">\n",
              "      <th></th>\n",
              "      <th>invoice_num</th>\n",
              "      <th>stock_code</th>\n",
              "      <th>description</th>\n",
              "      <th>quantity</th>\n",
              "      <th>invoice_date</th>\n",
              "      <th>unit_price</th>\n",
              "      <th>customer_id</th>\n",
              "      <th>country</th>\n",
              "    </tr>\n",
              "  </thead>\n",
              "  <tbody>\n",
              "    <tr>\n",
              "      <th>535332</th>\n",
              "      <td>581209</td>\n",
              "      <td>21620</td>\n",
              "      <td>NaN</td>\n",
              "      <td>6</td>\n",
              "      <td>12/7/2011 18:35</td>\n",
              "      <td>0.0</td>\n",
              "      <td>NaN</td>\n",
              "      <td>United Kingdom</td>\n",
              "    </tr>\n",
              "    <tr>\n",
              "      <th>536981</th>\n",
              "      <td>581234</td>\n",
              "      <td>72817</td>\n",
              "      <td>NaN</td>\n",
              "      <td>27</td>\n",
              "      <td>12/8/2011 10:33</td>\n",
              "      <td>0.0</td>\n",
              "      <td>NaN</td>\n",
              "      <td>United Kingdom</td>\n",
              "    </tr>\n",
              "    <tr>\n",
              "      <th>538554</th>\n",
              "      <td>581408</td>\n",
              "      <td>85175</td>\n",
              "      <td>NaN</td>\n",
              "      <td>20</td>\n",
              "      <td>12/8/2011 14:06</td>\n",
              "      <td>0.0</td>\n",
              "      <td>NaN</td>\n",
              "      <td>United Kingdom</td>\n",
              "    </tr>\n",
              "  </tbody>\n",
              "</table>\n",
              "</div>"
            ],
            "text/plain": [
              "       invoice_num stock_code  ... customer_id         country\n",
              "535332      581209      21620  ...         NaN  United Kingdom\n",
              "536981      581234      72817  ...         NaN  United Kingdom\n",
              "538554      581408      85175  ...         NaN  United Kingdom\n",
              "\n",
              "[3 rows x 8 columns]"
            ]
          },
          "metadata": {},
          "execution_count": 157
        }
      ]
    },
    {
      "cell_type": "markdown",
      "metadata": {
        "id": "XR-m5igXAutK"
      },
      "source": [
        "It is observed that the unit_price value is 0.0 for the ones with missing descriptions.\n",
        "* The null value for price is 0.0, it is not treated as null value because zero actually represents a quantifiable value but as price for any item is cannot be zero, the value should be treated as a missing value so replacing it with NaN."
      ]
    },
    {
      "cell_type": "code",
      "metadata": {
        "colab": {
          "base_uri": "https://localhost:8080/"
        },
        "id": "Hm4xL6IXBDf2",
        "outputId": "65762a8c-b0b5-46ce-fa3b-31a4ffd90e11"
      },
      "source": [
        "commerce_data.unit_price = commerce_data.unit_price.replace({0.0: np.nan})\n",
        "commerce_data.unit_price.isnull().value_counts()"
      ],
      "execution_count": null,
      "outputs": [
        {
          "output_type": "execute_result",
          "data": {
            "text/plain": [
              "False    539394\n",
              "True       2515\n",
              "Name: unit_price, dtype: int64"
            ]
          },
          "metadata": {},
          "execution_count": 158
        }
      ]
    },
    {
      "cell_type": "code",
      "metadata": {
        "colab": {
          "base_uri": "https://localhost:8080/",
          "height": 142
        },
        "id": "79Oj0TsnFjHP",
        "outputId": "eabd3161-32e1-4fba-aa30-b62089a40f77"
      },
      "source": [
        "commerce_data[commerce_data.unit_price.isnull()].head(n = 3)"
      ],
      "execution_count": null,
      "outputs": [
        {
          "output_type": "execute_result",
          "data": {
            "text/html": [
              "<div>\n",
              "<style scoped>\n",
              "    .dataframe tbody tr th:only-of-type {\n",
              "        vertical-align: middle;\n",
              "    }\n",
              "\n",
              "    .dataframe tbody tr th {\n",
              "        vertical-align: top;\n",
              "    }\n",
              "\n",
              "    .dataframe thead th {\n",
              "        text-align: right;\n",
              "    }\n",
              "</style>\n",
              "<table border=\"1\" class=\"dataframe\">\n",
              "  <thead>\n",
              "    <tr style=\"text-align: right;\">\n",
              "      <th></th>\n",
              "      <th>invoice_num</th>\n",
              "      <th>stock_code</th>\n",
              "      <th>description</th>\n",
              "      <th>quantity</th>\n",
              "      <th>invoice_date</th>\n",
              "      <th>unit_price</th>\n",
              "      <th>customer_id</th>\n",
              "      <th>country</th>\n",
              "    </tr>\n",
              "  </thead>\n",
              "  <tbody>\n",
              "    <tr>\n",
              "      <th>622</th>\n",
              "      <td>536414</td>\n",
              "      <td>22139</td>\n",
              "      <td>NaN</td>\n",
              "      <td>56</td>\n",
              "      <td>12/1/2010 11:52</td>\n",
              "      <td>NaN</td>\n",
              "      <td>NaN</td>\n",
              "      <td>United Kingdom</td>\n",
              "    </tr>\n",
              "    <tr>\n",
              "      <th>1970</th>\n",
              "      <td>536545</td>\n",
              "      <td>21134</td>\n",
              "      <td>NaN</td>\n",
              "      <td>1</td>\n",
              "      <td>12/1/2010 14:32</td>\n",
              "      <td>NaN</td>\n",
              "      <td>NaN</td>\n",
              "      <td>United Kingdom</td>\n",
              "    </tr>\n",
              "    <tr>\n",
              "      <th>1971</th>\n",
              "      <td>536546</td>\n",
              "      <td>22145</td>\n",
              "      <td>NaN</td>\n",
              "      <td>1</td>\n",
              "      <td>12/1/2010 14:33</td>\n",
              "      <td>NaN</td>\n",
              "      <td>NaN</td>\n",
              "      <td>United Kingdom</td>\n",
              "    </tr>\n",
              "  </tbody>\n",
              "</table>\n",
              "</div>"
            ],
            "text/plain": [
              "     invoice_num stock_code  ... customer_id         country\n",
              "622       536414      22139  ...         NaN  United Kingdom\n",
              "1970      536545      21134  ...         NaN  United Kingdom\n",
              "1971      536546      22145  ...         NaN  United Kingdom\n",
              "\n",
              "[3 rows x 8 columns]"
            ]
          },
          "metadata": {},
          "execution_count": 159
        }
      ]
    },
    {
      "cell_type": "markdown",
      "metadata": {
        "id": "EApabNxQ1ZSo"
      },
      "source": [
        "> It looks like whenever the description is missing so is the customer_id and the unit_price.\n",
        "\n",
        "> **Hypothesis: For missing description of items, both customer_id and unit_price of items are unknown.**"
      ]
    },
    {
      "cell_type": "markdown",
      "metadata": {
        "id": "RYGDbohxMDmW"
      },
      "source": [
        "* Numbers of **customer_id** missing for missing **description**."
      ]
    },
    {
      "cell_type": "code",
      "metadata": {
        "colab": {
          "base_uri": "https://localhost:8080/"
        },
        "id": "z84ez01f-Nx4",
        "outputId": "1331e0d9-f2a5-4316-a2d5-a6f23320eebc"
      },
      "source": [
        "commerce_data[commerce_data.description.isnull()].customer_id.isnull().value_counts()"
      ],
      "execution_count": null,
      "outputs": [
        {
          "output_type": "execute_result",
          "data": {
            "text/plain": [
              "True    1454\n",
              "Name: customer_id, dtype: int64"
            ]
          },
          "metadata": {},
          "execution_count": 160
        }
      ]
    },
    {
      "cell_type": "markdown",
      "metadata": {
        "id": "YJ98-4S2P5Q8"
      },
      "source": [
        "* Number of **unit_price** missing for missing **description**."
      ]
    },
    {
      "cell_type": "code",
      "metadata": {
        "colab": {
          "base_uri": "https://localhost:8080/"
        },
        "id": "oklg6-wC_IO8",
        "outputId": "2a7ad6eb-b871-47d0-8d87-f91ac39a4501"
      },
      "source": [
        "commerce_data[commerce_data.description.isnull()].unit_price.isnull().value_counts()"
      ],
      "execution_count": null,
      "outputs": [
        {
          "output_type": "execute_result",
          "data": {
            "text/plain": [
              "True    1454\n",
              "Name: unit_price, dtype: int64"
            ]
          },
          "metadata": {},
          "execution_count": 161
        }
      ]
    },
    {
      "cell_type": "markdown",
      "metadata": {
        "id": "oZO1WLROQnkI"
      },
      "source": [
        "Hypothesis verified: For all the values that has missing description also has missing unit_price and customer_id.\n",
        "\n",
        "Further checking for missing values in any other forms."
      ]
    },
    {
      "cell_type": "code",
      "metadata": {
        "colab": {
          "base_uri": "https://localhost:8080/",
          "height": 142
        },
        "id": "YKz_Xc3hi9mc",
        "outputId": "00e5fa87-7f67-4276-ebc1-509ca5d8a40b"
      },
      "source": [
        "commerce_data.head(n = 3)"
      ],
      "execution_count": null,
      "outputs": [
        {
          "output_type": "execute_result",
          "data": {
            "text/html": [
              "<div>\n",
              "<style scoped>\n",
              "    .dataframe tbody tr th:only-of-type {\n",
              "        vertical-align: middle;\n",
              "    }\n",
              "\n",
              "    .dataframe tbody tr th {\n",
              "        vertical-align: top;\n",
              "    }\n",
              "\n",
              "    .dataframe thead th {\n",
              "        text-align: right;\n",
              "    }\n",
              "</style>\n",
              "<table border=\"1\" class=\"dataframe\">\n",
              "  <thead>\n",
              "    <tr style=\"text-align: right;\">\n",
              "      <th></th>\n",
              "      <th>invoice_num</th>\n",
              "      <th>stock_code</th>\n",
              "      <th>description</th>\n",
              "      <th>quantity</th>\n",
              "      <th>invoice_date</th>\n",
              "      <th>unit_price</th>\n",
              "      <th>customer_id</th>\n",
              "      <th>country</th>\n",
              "    </tr>\n",
              "  </thead>\n",
              "  <tbody>\n",
              "    <tr>\n",
              "      <th>0</th>\n",
              "      <td>536365</td>\n",
              "      <td>85123A</td>\n",
              "      <td>WHITE HANGING HEART T-LIGHT HOLDER</td>\n",
              "      <td>6</td>\n",
              "      <td>12/1/2010 8:26</td>\n",
              "      <td>2.55</td>\n",
              "      <td>17850.0</td>\n",
              "      <td>United Kingdom</td>\n",
              "    </tr>\n",
              "    <tr>\n",
              "      <th>1</th>\n",
              "      <td>536365</td>\n",
              "      <td>71053</td>\n",
              "      <td>WHITE METAL LANTERN</td>\n",
              "      <td>6</td>\n",
              "      <td>12/1/2010 8:26</td>\n",
              "      <td>3.39</td>\n",
              "      <td>17850.0</td>\n",
              "      <td>United Kingdom</td>\n",
              "    </tr>\n",
              "    <tr>\n",
              "      <th>2</th>\n",
              "      <td>536365</td>\n",
              "      <td>84406B</td>\n",
              "      <td>CREAM CUPID HEARTS COAT HANGER</td>\n",
              "      <td>8</td>\n",
              "      <td>12/1/2010 8:26</td>\n",
              "      <td>2.75</td>\n",
              "      <td>17850.0</td>\n",
              "      <td>United Kingdom</td>\n",
              "    </tr>\n",
              "  </tbody>\n",
              "</table>\n",
              "</div>"
            ],
            "text/plain": [
              "  invoice_num stock_code  ... customer_id         country\n",
              "0      536365     85123A  ...     17850.0  United Kingdom\n",
              "1      536365      71053  ...     17850.0  United Kingdom\n",
              "2      536365     84406B  ...     17850.0  United Kingdom\n",
              "\n",
              "[3 rows x 8 columns]"
            ]
          },
          "metadata": {},
          "execution_count": 162
        }
      ]
    },
    {
      "cell_type": "code",
      "metadata": {
        "colab": {
          "base_uri": "https://localhost:8080/"
        },
        "id": "frcGRvB-EuoE",
        "outputId": "665e7f9a-c6b9-45a3-e329-8faebc89bf0e"
      },
      "source": [
        "commerce_data['description'] = commerce_data.description.str.lower()\n",
        "\n",
        "nan = commerce_data.description.dropna().apply(\n",
        "    lambda l: np.where(\"nan\" in l, True, False)\n",
        ").value_counts()\n",
        "\n",
        "empty_strings = commerce_data.customer_id.dropna().apply(\n",
        "    lambda l: np.where(\"\" == l, True, False)\n",
        ").value_counts()\n",
        "\n",
        "print('The number of null values present as nan are: {}\\n'.format(nan[True]))\n",
        "print('The number of empty strings present are: \\n{}'.format(empty_strings))"
      ],
      "execution_count": null,
      "outputs": [
        {
          "output_type": "stream",
          "text": [
            "The number of null values present as nan are: 731\n",
            "\n",
            "The number of empty strings present are: \n",
            "False    406829\n",
            "Name: customer_id, dtype: int64\n"
          ],
          "name": "stdout"
        }
      ]
    },
    {
      "cell_type": "code",
      "metadata": {
        "id": "q8Hd29pklvA5"
      },
      "source": [
        "commerce_data.loc[commerce_data.description.isnull()==False, \"description\"] = commerce_data.loc[\n",
        "    commerce_data.description.isnull()==False, \"description\"\n",
        "].apply(lambda l: np.where(\"nan\" in l, None, l))"
      ],
      "execution_count": null,
      "outputs": []
    },
    {
      "cell_type": "markdown",
      "metadata": {
        "id": "R9GQQl9LULG3"
      },
      "source": [
        "As the unknown are adding too much amount of uncertainity and misinterpretation in the data. Dropping those rows with null values to get correct interpretations for further processing."
      ]
    },
    {
      "cell_type": "code",
      "metadata": {
        "colab": {
          "base_uri": "https://localhost:8080/"
        },
        "id": "2fCpXnHgUlSp",
        "outputId": "3aabac7d-412e-43eb-d6d3-734ff129290e"
      },
      "source": [
        "commerce_data.dropna(inplace=True)\n",
        "commerce_data.isnull().sum().sort_values(ascending=False)"
      ],
      "execution_count": null,
      "outputs": [
        {
          "output_type": "execute_result",
          "data": {
            "text/plain": [
              "country         0\n",
              "customer_id     0\n",
              "unit_price      0\n",
              "invoice_date    0\n",
              "quantity        0\n",
              "description     0\n",
              "stock_code      0\n",
              "invoice_num     0\n",
              "dtype: int64"
            ]
          },
          "metadata": {},
          "execution_count": 165
        }
      ]
    },
    {
      "cell_type": "code",
      "metadata": {
        "colab": {
          "base_uri": "https://localhost:8080/",
          "height": 297
        },
        "id": "sb8IZqaSzv1T",
        "outputId": "0a7e8e5e-600c-49e5-bc93-18ac4293ad34"
      },
      "source": [
        "commerce_data.describe().round(2)"
      ],
      "execution_count": null,
      "outputs": [
        {
          "output_type": "execute_result",
          "data": {
            "text/html": [
              "<div>\n",
              "<style scoped>\n",
              "    .dataframe tbody tr th:only-of-type {\n",
              "        vertical-align: middle;\n",
              "    }\n",
              "\n",
              "    .dataframe tbody tr th {\n",
              "        vertical-align: top;\n",
              "    }\n",
              "\n",
              "    .dataframe thead th {\n",
              "        text-align: right;\n",
              "    }\n",
              "</style>\n",
              "<table border=\"1\" class=\"dataframe\">\n",
              "  <thead>\n",
              "    <tr style=\"text-align: right;\">\n",
              "      <th></th>\n",
              "      <th>quantity</th>\n",
              "      <th>unit_price</th>\n",
              "      <th>customer_id</th>\n",
              "    </tr>\n",
              "  </thead>\n",
              "  <tbody>\n",
              "    <tr>\n",
              "      <th>count</th>\n",
              "      <td>406183.00</td>\n",
              "      <td>406183.00</td>\n",
              "      <td>406183.00</td>\n",
              "    </tr>\n",
              "    <tr>\n",
              "      <th>mean</th>\n",
              "      <td>12.03</td>\n",
              "      <td>3.46</td>\n",
              "      <td>15287.66</td>\n",
              "    </tr>\n",
              "    <tr>\n",
              "      <th>std</th>\n",
              "      <td>248.11</td>\n",
              "      <td>69.37</td>\n",
              "      <td>1713.66</td>\n",
              "    </tr>\n",
              "    <tr>\n",
              "      <th>min</th>\n",
              "      <td>-80995.00</td>\n",
              "      <td>0.00</td>\n",
              "      <td>12346.00</td>\n",
              "    </tr>\n",
              "    <tr>\n",
              "      <th>25%</th>\n",
              "      <td>2.00</td>\n",
              "      <td>1.25</td>\n",
              "      <td>13953.00</td>\n",
              "    </tr>\n",
              "    <tr>\n",
              "      <th>50%</th>\n",
              "      <td>5.00</td>\n",
              "      <td>1.95</td>\n",
              "      <td>15152.00</td>\n",
              "    </tr>\n",
              "    <tr>\n",
              "      <th>75%</th>\n",
              "      <td>12.00</td>\n",
              "      <td>3.75</td>\n",
              "      <td>16791.00</td>\n",
              "    </tr>\n",
              "    <tr>\n",
              "      <th>max</th>\n",
              "      <td>80995.00</td>\n",
              "      <td>38970.00</td>\n",
              "      <td>18287.00</td>\n",
              "    </tr>\n",
              "  </tbody>\n",
              "</table>\n",
              "</div>"
            ],
            "text/plain": [
              "        quantity  unit_price  customer_id\n",
              "count  406183.00   406183.00    406183.00\n",
              "mean       12.03        3.46     15287.66\n",
              "std       248.11       69.37      1713.66\n",
              "min    -80995.00        0.00     12346.00\n",
              "25%         2.00        1.25     13953.00\n",
              "50%         5.00        1.95     15152.00\n",
              "75%        12.00        3.75     16791.00\n",
              "max     80995.00    38970.00     18287.00"
            ]
          },
          "metadata": {},
          "execution_count": 166
        }
      ]
    },
    {
      "cell_type": "markdown",
      "metadata": {
        "id": "c2a2Pqzsz14O"
      },
      "source": [
        "* The negative value for quantity is not viable so, it should be removed from the dataset before further processing.\n"
      ]
    },
    {
      "cell_type": "code",
      "metadata": {
        "colab": {
          "base_uri": "https://localhost:8080/",
          "height": 297
        },
        "id": "Y7idd_6OX3QC",
        "outputId": "a0f3856a-6f02-4bd2-f202-cf5a6f452d68"
      },
      "source": [
        "commerce_data = commerce_data[commerce_data.quantity > 0]\n",
        "commerce_data.describe().round(2)"
      ],
      "execution_count": null,
      "outputs": [
        {
          "output_type": "execute_result",
          "data": {
            "text/html": [
              "<div>\n",
              "<style scoped>\n",
              "    .dataframe tbody tr th:only-of-type {\n",
              "        vertical-align: middle;\n",
              "    }\n",
              "\n",
              "    .dataframe tbody tr th {\n",
              "        vertical-align: top;\n",
              "    }\n",
              "\n",
              "    .dataframe thead th {\n",
              "        text-align: right;\n",
              "    }\n",
              "</style>\n",
              "<table border=\"1\" class=\"dataframe\">\n",
              "  <thead>\n",
              "    <tr style=\"text-align: right;\">\n",
              "      <th></th>\n",
              "      <th>quantity</th>\n",
              "      <th>unit_price</th>\n",
              "      <th>customer_id</th>\n",
              "    </tr>\n",
              "  </thead>\n",
              "  <tbody>\n",
              "    <tr>\n",
              "      <th>count</th>\n",
              "      <td>397287.00</td>\n",
              "      <td>397287.00</td>\n",
              "      <td>397287.00</td>\n",
              "    </tr>\n",
              "    <tr>\n",
              "      <th>mean</th>\n",
              "      <td>12.99</td>\n",
              "      <td>3.12</td>\n",
              "      <td>15294.29</td>\n",
              "    </tr>\n",
              "    <tr>\n",
              "      <th>std</th>\n",
              "      <td>179.47</td>\n",
              "      <td>22.11</td>\n",
              "      <td>1713.22</td>\n",
              "    </tr>\n",
              "    <tr>\n",
              "      <th>min</th>\n",
              "      <td>1.00</td>\n",
              "      <td>0.00</td>\n",
              "      <td>12346.00</td>\n",
              "    </tr>\n",
              "    <tr>\n",
              "      <th>25%</th>\n",
              "      <td>2.00</td>\n",
              "      <td>1.25</td>\n",
              "      <td>13969.00</td>\n",
              "    </tr>\n",
              "    <tr>\n",
              "      <th>50%</th>\n",
              "      <td>6.00</td>\n",
              "      <td>1.95</td>\n",
              "      <td>15159.00</td>\n",
              "    </tr>\n",
              "    <tr>\n",
              "      <th>75%</th>\n",
              "      <td>12.00</td>\n",
              "      <td>3.75</td>\n",
              "      <td>16795.00</td>\n",
              "    </tr>\n",
              "    <tr>\n",
              "      <th>max</th>\n",
              "      <td>80995.00</td>\n",
              "      <td>8142.75</td>\n",
              "      <td>18287.00</td>\n",
              "    </tr>\n",
              "  </tbody>\n",
              "</table>\n",
              "</div>"
            ],
            "text/plain": [
              "        quantity  unit_price  customer_id\n",
              "count  397287.00   397287.00    397287.00\n",
              "mean       12.99        3.12     15294.29\n",
              "std       179.47       22.11      1713.22\n",
              "min         1.00        0.00     12346.00\n",
              "25%         2.00        1.25     13969.00\n",
              "50%         6.00        1.95     15159.00\n",
              "75%        12.00        3.75     16795.00\n",
              "max     80995.00     8142.75     18287.00"
            ]
          },
          "metadata": {},
          "execution_count": 167
        }
      ]
    },
    {
      "cell_type": "markdown",
      "metadata": {
        "id": "DSRWHjyFYL8s"
      },
      "source": [
        "Conversion of datatypes - \n",
        "* InvoiceDate is an object, conversion of it to a datetime datatype for further processing.\n",
        "* Converting dtype of customer_id from float64 to int64."
      ]
    },
    {
      "cell_type": "code",
      "metadata": {
        "id": "6eCSw29-ryBH"
      },
      "source": [
        "commerce_data.invoice_date = pd.to_datetime(commerce_data.invoice_date)\n",
        "commerce_data.customer_id = commerce_data.customer_id.astype('int64')"
      ],
      "execution_count": null,
      "outputs": []
    },
    {
      "cell_type": "markdown",
      "metadata": {
        "id": "rzuZfClnz8Jk"
      },
      "source": [
        "Checking for cancelled invoice numbers  -"
      ]
    },
    {
      "cell_type": "code",
      "metadata": {
        "colab": {
          "base_uri": "https://localhost:8080/"
        },
        "id": "evE3QLP_0D-d",
        "outputId": "04f13b6f-8bbf-479b-a2e1-8e0467a6e9cc"
      },
      "source": [
        "commerce_data['invoice_num'].apply(lambda x:int('C' in x)).value_counts()"
      ],
      "execution_count": null,
      "outputs": [
        {
          "output_type": "execute_result",
          "data": {
            "text/plain": [
              "0    397287\n",
              "Name: invoice_num, dtype: int64"
            ]
          },
          "metadata": {},
          "execution_count": 169
        }
      ]
    },
    {
      "cell_type": "code",
      "metadata": {
        "colab": {
          "base_uri": "https://localhost:8080/",
          "height": 297
        },
        "id": "uqw1W9VWQm1_",
        "outputId": "f6ca2c3b-3a4c-406a-95e6-dcf2a7798915"
      },
      "source": [
        "get_attributes_info(commerce_data)"
      ],
      "execution_count": null,
      "outputs": [
        {
          "output_type": "execute_result",
          "data": {
            "text/html": [
              "<div>\n",
              "<style scoped>\n",
              "    .dataframe tbody tr th:only-of-type {\n",
              "        vertical-align: middle;\n",
              "    }\n",
              "\n",
              "    .dataframe tbody tr th {\n",
              "        vertical-align: top;\n",
              "    }\n",
              "\n",
              "    .dataframe thead th {\n",
              "        text-align: right;\n",
              "    }\n",
              "</style>\n",
              "<table border=\"1\" class=\"dataframe\">\n",
              "  <thead>\n",
              "    <tr style=\"text-align: right;\">\n",
              "      <th></th>\n",
              "      <th>Count</th>\n",
              "      <th>dtypes</th>\n",
              "      <th>Missing_values</th>\n",
              "      <th>Missing_values (%)</th>\n",
              "      <th>Unique</th>\n",
              "    </tr>\n",
              "  </thead>\n",
              "  <tbody>\n",
              "    <tr>\n",
              "      <th>invoice_num</th>\n",
              "      <td>397287</td>\n",
              "      <td>object</td>\n",
              "      <td>0</td>\n",
              "      <td>0.0</td>\n",
              "      <td>18531</td>\n",
              "    </tr>\n",
              "    <tr>\n",
              "      <th>stock_code</th>\n",
              "      <td>397287</td>\n",
              "      <td>object</td>\n",
              "      <td>0</td>\n",
              "      <td>0.0</td>\n",
              "      <td>3663</td>\n",
              "    </tr>\n",
              "    <tr>\n",
              "      <th>description</th>\n",
              "      <td>397287</td>\n",
              "      <td>object</td>\n",
              "      <td>0</td>\n",
              "      <td>0.0</td>\n",
              "      <td>3875</td>\n",
              "    </tr>\n",
              "    <tr>\n",
              "      <th>quantity</th>\n",
              "      <td>397287</td>\n",
              "      <td>int64</td>\n",
              "      <td>0</td>\n",
              "      <td>0.0</td>\n",
              "      <td>301</td>\n",
              "    </tr>\n",
              "    <tr>\n",
              "      <th>invoice_date</th>\n",
              "      <td>397287</td>\n",
              "      <td>datetime64[ns]</td>\n",
              "      <td>0</td>\n",
              "      <td>0.0</td>\n",
              "      <td>17281</td>\n",
              "    </tr>\n",
              "    <tr>\n",
              "      <th>unit_price</th>\n",
              "      <td>397287</td>\n",
              "      <td>float64</td>\n",
              "      <td>0</td>\n",
              "      <td>0.0</td>\n",
              "      <td>440</td>\n",
              "    </tr>\n",
              "    <tr>\n",
              "      <th>customer_id</th>\n",
              "      <td>397287</td>\n",
              "      <td>int64</td>\n",
              "      <td>0</td>\n",
              "      <td>0.0</td>\n",
              "      <td>4338</td>\n",
              "    </tr>\n",
              "    <tr>\n",
              "      <th>country</th>\n",
              "      <td>397287</td>\n",
              "      <td>object</td>\n",
              "      <td>0</td>\n",
              "      <td>0.0</td>\n",
              "      <td>37</td>\n",
              "    </tr>\n",
              "  </tbody>\n",
              "</table>\n",
              "</div>"
            ],
            "text/plain": [
              "               Count          dtypes  ...  Missing_values (%)  Unique\n",
              "invoice_num   397287          object  ...                 0.0   18531\n",
              "stock_code    397287          object  ...                 0.0    3663\n",
              "description   397287          object  ...                 0.0    3875\n",
              "quantity      397287           int64  ...                 0.0     301\n",
              "invoice_date  397287  datetime64[ns]  ...                 0.0   17281\n",
              "unit_price    397287         float64  ...                 0.0     440\n",
              "customer_id   397287           int64  ...                 0.0    4338\n",
              "country       397287          object  ...                 0.0      37\n",
              "\n",
              "[8 rows x 5 columns]"
            ]
          },
          "metadata": {},
          "execution_count": 170
        }
      ]
    },
    {
      "cell_type": "markdown",
      "metadata": {
        "id": "i9rvAnsLaQ0N"
      },
      "source": [
        "Summary of the tasks till now:\n",
        "* Changing the features name for simplicity.\n",
        "* Method to display the count, dtypes, missing values, missing values percentage and unique values in each feature column.\n",
        "* Removing the rows with the missing (nan, NaN, empty string) values.\n",
        "* Changing the datatype of invoice_date and customer_id.\n",
        "* Removing the rows with negative quantity.\n",
        "* A total of 144622 rows have been removed to eliminate the uncertainities in the data observed until now.\n",
        "* Verying that there are no further cancelled invoices."
      ]
    },
    {
      "cell_type": "code",
      "metadata": {
        "colab": {
          "base_uri": "https://localhost:8080/",
          "height": 247
        },
        "id": "ndX7x2WnujVj",
        "outputId": "db92ec52-c0aa-45c3-fe2f-694af3a7c1ab"
      },
      "source": [
        "commerce_data.head(n = 3)"
      ],
      "execution_count": null,
      "outputs": [
        {
          "output_type": "execute_result",
          "data": {
            "text/html": [
              "<div>\n",
              "<style scoped>\n",
              "    .dataframe tbody tr th:only-of-type {\n",
              "        vertical-align: middle;\n",
              "    }\n",
              "\n",
              "    .dataframe tbody tr th {\n",
              "        vertical-align: top;\n",
              "    }\n",
              "\n",
              "    .dataframe thead th {\n",
              "        text-align: right;\n",
              "    }\n",
              "</style>\n",
              "<table border=\"1\" class=\"dataframe\">\n",
              "  <thead>\n",
              "    <tr style=\"text-align: right;\">\n",
              "      <th></th>\n",
              "      <th>invoice_num</th>\n",
              "      <th>stock_code</th>\n",
              "      <th>description</th>\n",
              "      <th>quantity</th>\n",
              "      <th>invoice_date</th>\n",
              "      <th>unit_price</th>\n",
              "      <th>customer_id</th>\n",
              "      <th>country</th>\n",
              "    </tr>\n",
              "  </thead>\n",
              "  <tbody>\n",
              "    <tr>\n",
              "      <th>0</th>\n",
              "      <td>536365</td>\n",
              "      <td>85123A</td>\n",
              "      <td>white hanging heart t-light holder</td>\n",
              "      <td>6</td>\n",
              "      <td>2010-12-01 08:26:00</td>\n",
              "      <td>2.55</td>\n",
              "      <td>17850</td>\n",
              "      <td>United Kingdom</td>\n",
              "    </tr>\n",
              "    <tr>\n",
              "      <th>1</th>\n",
              "      <td>536365</td>\n",
              "      <td>71053</td>\n",
              "      <td>white metal lantern</td>\n",
              "      <td>6</td>\n",
              "      <td>2010-12-01 08:26:00</td>\n",
              "      <td>3.39</td>\n",
              "      <td>17850</td>\n",
              "      <td>United Kingdom</td>\n",
              "    </tr>\n",
              "    <tr>\n",
              "      <th>2</th>\n",
              "      <td>536365</td>\n",
              "      <td>84406B</td>\n",
              "      <td>cream cupid hearts coat hanger</td>\n",
              "      <td>8</td>\n",
              "      <td>2010-12-01 08:26:00</td>\n",
              "      <td>2.75</td>\n",
              "      <td>17850</td>\n",
              "      <td>United Kingdom</td>\n",
              "    </tr>\n",
              "  </tbody>\n",
              "</table>\n",
              "</div>"
            ],
            "text/plain": [
              "  invoice_num stock_code  ... customer_id         country\n",
              "0      536365     85123A  ...       17850  United Kingdom\n",
              "1      536365      71053  ...       17850  United Kingdom\n",
              "2      536365     84406B  ...       17850  United Kingdom\n",
              "\n",
              "[3 rows x 8 columns]"
            ]
          },
          "metadata": {},
          "execution_count": 171
        }
      ]
    },
    {
      "cell_type": "markdown",
      "metadata": {
        "id": "CDpt3zDrw3vw"
      },
      "source": [
        "Arranging the columns and removing the order_canceled column."
      ]
    },
    {
      "cell_type": "code",
      "metadata": {
        "colab": {
          "base_uri": "https://localhost:8080/",
          "height": 247
        },
        "id": "z_aIAxIHyf18",
        "outputId": "ae77b879-2076-4a61-cd73-8e676b469ec1"
      },
      "source": [
        "commerce_data['spend_amount'] = commerce_data['quantity'] * commerce_data['unit_price']\n",
        "commerce_data = commerce_data[['invoice_num','invoice_date','stock_code','description','quantity','unit_price', 'spend_amount', 'customer_id','country', ]]\n",
        "commerce_data.head(n = 3)"
      ],
      "execution_count": null,
      "outputs": [
        {
          "output_type": "execute_result",
          "data": {
            "text/html": [
              "<div>\n",
              "<style scoped>\n",
              "    .dataframe tbody tr th:only-of-type {\n",
              "        vertical-align: middle;\n",
              "    }\n",
              "\n",
              "    .dataframe tbody tr th {\n",
              "        vertical-align: top;\n",
              "    }\n",
              "\n",
              "    .dataframe thead th {\n",
              "        text-align: right;\n",
              "    }\n",
              "</style>\n",
              "<table border=\"1\" class=\"dataframe\">\n",
              "  <thead>\n",
              "    <tr style=\"text-align: right;\">\n",
              "      <th></th>\n",
              "      <th>invoice_num</th>\n",
              "      <th>invoice_date</th>\n",
              "      <th>stock_code</th>\n",
              "      <th>description</th>\n",
              "      <th>quantity</th>\n",
              "      <th>unit_price</th>\n",
              "      <th>spend_amount</th>\n",
              "      <th>customer_id</th>\n",
              "      <th>country</th>\n",
              "    </tr>\n",
              "  </thead>\n",
              "  <tbody>\n",
              "    <tr>\n",
              "      <th>0</th>\n",
              "      <td>536365</td>\n",
              "      <td>2010-12-01 08:26:00</td>\n",
              "      <td>85123A</td>\n",
              "      <td>white hanging heart t-light holder</td>\n",
              "      <td>6</td>\n",
              "      <td>2.55</td>\n",
              "      <td>15.30</td>\n",
              "      <td>17850</td>\n",
              "      <td>United Kingdom</td>\n",
              "    </tr>\n",
              "    <tr>\n",
              "      <th>1</th>\n",
              "      <td>536365</td>\n",
              "      <td>2010-12-01 08:26:00</td>\n",
              "      <td>71053</td>\n",
              "      <td>white metal lantern</td>\n",
              "      <td>6</td>\n",
              "      <td>3.39</td>\n",
              "      <td>20.34</td>\n",
              "      <td>17850</td>\n",
              "      <td>United Kingdom</td>\n",
              "    </tr>\n",
              "    <tr>\n",
              "      <th>2</th>\n",
              "      <td>536365</td>\n",
              "      <td>2010-12-01 08:26:00</td>\n",
              "      <td>84406B</td>\n",
              "      <td>cream cupid hearts coat hanger</td>\n",
              "      <td>8</td>\n",
              "      <td>2.75</td>\n",
              "      <td>22.00</td>\n",
              "      <td>17850</td>\n",
              "      <td>United Kingdom</td>\n",
              "    </tr>\n",
              "  </tbody>\n",
              "</table>\n",
              "</div>"
            ],
            "text/plain": [
              "  invoice_num        invoice_date  ... customer_id         country\n",
              "0      536365 2010-12-01 08:26:00  ...       17850  United Kingdom\n",
              "1      536365 2010-12-01 08:26:00  ...       17850  United Kingdom\n",
              "2      536365 2010-12-01 08:26:00  ...       17850  United Kingdom\n",
              "\n",
              "[3 rows x 9 columns]"
            ]
          },
          "metadata": {},
          "execution_count": 172
        }
      ]
    },
    {
      "cell_type": "code",
      "metadata": {
        "id": "n1Qq2zMEzbRt"
      },
      "source": [
        "import matplotlib.pyplot as plt"
      ],
      "execution_count": null,
      "outputs": []
    },
    {
      "cell_type": "markdown",
      "metadata": {
        "id": "nWc0BsEuqsO0"
      },
      "source": [
        "**Discovering patterns in invoice_data and number of orders.**"
      ]
    },
    {
      "cell_type": "code",
      "metadata": {
        "colab": {
          "base_uri": "https://localhost:8080/",
          "height": 173
        },
        "id": "bWiiotv7QXIW",
        "outputId": "1bfef805-35f9-48e7-f481-db7f541ee91f"
      },
      "source": [
        "time_grouping = commerce_data.groupby('invoice_date')[['invoice_num']].count()\n",
        "time_grouping.columns = ['transactions']\n",
        "time_grouping.head(n=3)"
      ],
      "execution_count": null,
      "outputs": [
        {
          "output_type": "execute_result",
          "data": {
            "text/html": [
              "<div>\n",
              "<style scoped>\n",
              "    .dataframe tbody tr th:only-of-type {\n",
              "        vertical-align: middle;\n",
              "    }\n",
              "\n",
              "    .dataframe tbody tr th {\n",
              "        vertical-align: top;\n",
              "    }\n",
              "\n",
              "    .dataframe thead th {\n",
              "        text-align: right;\n",
              "    }\n",
              "</style>\n",
              "<table border=\"1\" class=\"dataframe\">\n",
              "  <thead>\n",
              "    <tr style=\"text-align: right;\">\n",
              "      <th></th>\n",
              "      <th>transactions</th>\n",
              "    </tr>\n",
              "    <tr>\n",
              "      <th>invoice_date</th>\n",
              "      <th></th>\n",
              "    </tr>\n",
              "  </thead>\n",
              "  <tbody>\n",
              "    <tr>\n",
              "      <th>2010-12-01 08:26:00</th>\n",
              "      <td>7</td>\n",
              "    </tr>\n",
              "    <tr>\n",
              "      <th>2010-12-01 08:28:00</th>\n",
              "      <td>2</td>\n",
              "    </tr>\n",
              "    <tr>\n",
              "      <th>2010-12-01 08:34:00</th>\n",
              "      <td>16</td>\n",
              "    </tr>\n",
              "  </tbody>\n",
              "</table>\n",
              "</div>"
            ],
            "text/plain": [
              "                     transactions\n",
              "invoice_date                     \n",
              "2010-12-01 08:26:00             7\n",
              "2010-12-01 08:28:00             2\n",
              "2010-12-01 08:34:00            16"
            ]
          },
          "metadata": {},
          "execution_count": 174
        }
      ]
    },
    {
      "cell_type": "code",
      "metadata": {
        "colab": {
          "base_uri": "https://localhost:8080/",
          "height": 173
        },
        "id": "vns_337eR5d3",
        "outputId": "38508af6-e9b8-4b7a-92f5-6d7530396bde"
      },
      "source": [
        "time_grouping_daily = time_grouping.resample('D').apply(sum)\n",
        "time_grouping_daily.head(n=3)"
      ],
      "execution_count": null,
      "outputs": [
        {
          "output_type": "execute_result",
          "data": {
            "text/html": [
              "<div>\n",
              "<style scoped>\n",
              "    .dataframe tbody tr th:only-of-type {\n",
              "        vertical-align: middle;\n",
              "    }\n",
              "\n",
              "    .dataframe tbody tr th {\n",
              "        vertical-align: top;\n",
              "    }\n",
              "\n",
              "    .dataframe thead th {\n",
              "        text-align: right;\n",
              "    }\n",
              "</style>\n",
              "<table border=\"1\" class=\"dataframe\">\n",
              "  <thead>\n",
              "    <tr style=\"text-align: right;\">\n",
              "      <th></th>\n",
              "      <th>transactions</th>\n",
              "    </tr>\n",
              "    <tr>\n",
              "      <th>invoice_date</th>\n",
              "      <th></th>\n",
              "    </tr>\n",
              "  </thead>\n",
              "  <tbody>\n",
              "    <tr>\n",
              "      <th>2010-12-01</th>\n",
              "      <td>1942</td>\n",
              "    </tr>\n",
              "    <tr>\n",
              "      <th>2010-12-02</th>\n",
              "      <td>2000</td>\n",
              "    </tr>\n",
              "    <tr>\n",
              "      <th>2010-12-03</th>\n",
              "      <td>1102</td>\n",
              "    </tr>\n",
              "  </tbody>\n",
              "</table>\n",
              "</div>"
            ],
            "text/plain": [
              "              transactions\n",
              "invoice_date              \n",
              "2010-12-01            1942\n",
              "2010-12-02            2000\n",
              "2010-12-03            1102"
            ]
          },
          "metadata": {},
          "execution_count": 175
        }
      ]
    },
    {
      "cell_type": "code",
      "metadata": {
        "id": "ivsQnd4zTG-H"
      },
      "source": [
        "import seaborn as sns\n",
        "import matplotlib.pyplot as plt\n",
        "\n",
        "plt.rcParams['figure.figsize'] = [14, 6]\n",
        "plt.rcParams['font.size'] = 15\n",
        "# plt.rcParams['lines.linewidth'] = 1.0\n",
        "\n",
        "def line_plot(agg_posts, title):\n",
        "\n",
        "  sns.lineplot(data = agg_posts, x = 'invoice_date', y = 'transactions', color='cadetblue')\n",
        "  plt.title(title)\n",
        "\n",
        "def bar_plot(agg_posts, title):\n",
        "\n",
        "  sns.barplot(data = agg_posts, x = 'invoice_date', y = 'transactions',  color='deepskyblue', saturation=0.5)\n",
        "  plt.title(title)"
      ],
      "execution_count": null,
      "outputs": []
    },
    {
      "cell_type": "code",
      "metadata": {
        "colab": {
          "base_uri": "https://localhost:8080/",
          "height": 419
        },
        "id": "L_AcfHGIbkfU",
        "outputId": "30a00c80-0c8d-42a3-89e5-96637b434f06"
      },
      "source": [
        "line_plot(time_grouping, \"Number of orders\")"
      ],
      "execution_count": null,
      "outputs": [
        {
          "output_type": "display_data",
          "data": {
            "image/png": "[encoded data removed]",
            "text/plain": [
              "<Figure size 1008x432 with 1 Axes>"
            ]
          },
          "metadata": {
            "needs_background": "light"
          }
        }
      ]
    },
    {
      "cell_type": "code",
      "metadata": {
        "colab": {
          "base_uri": "https://localhost:8080/",
          "height": 419
        },
        "id": "ARyddRbrb0th",
        "outputId": "797a8772-7656-40e9-c8c3-56b7945b7b0f"
      },
      "source": [
        "line_plot(time_grouping_daily, \"Number of orders (daily)\")"
      ],
      "execution_count": null,
      "outputs": [
        {
          "output_type": "display_data",
          "data": {
            "image/png": "[encoded data removed]",
            "text/plain": [
              "<Figure size 1008x432 with 1 Axes>"
            ]
          },
          "metadata": {
            "needs_background": "light"
          }
        }
      ]
    },
    {
      "cell_type": "code",
      "metadata": {
        "colab": {
          "base_uri": "https://localhost:8080/",
          "height": 419
        },
        "id": "bHYKyLOobPe9",
        "outputId": "d13908bc-1ee3-47b4-eb3d-31851f7b74f2"
      },
      "source": [
        "time_grouping_weekly = time_grouping.resample('W').apply(sum)\n",
        "line_plot(time_grouping_weekly, \"Number of orders (Weekly)\")"
      ],
      "execution_count": null,
      "outputs": [
        {
          "output_type": "display_data",
          "data": {
            "image/png": "[encoded data removed]",
            "text/plain": [
              "<Figure size 1008x432 with 1 Axes>"
            ]
          },
          "metadata": {
            "needs_background": "light"
          }
        }
      ]
    },
    {
      "cell_type": "code",
      "metadata": {
        "colab": {
          "base_uri": "https://localhost:8080/",
          "height": 419
        },
        "id": "nn7iM29Qt8pa",
        "outputId": "2882955b-87bc-446e-c00b-d8b5c18dcfa5"
      },
      "source": [
        "sns.set_palette(\"Set3\")\n",
        "\n",
        "def bar_chart(agg_posts, title):\n",
        "  \n",
        "  sns.barplot( x = agg_posts['invoice_date'], y = agg_posts['transactions'], color=\"deepskyblue\", saturation=0.5)\n",
        "  plt.title(title)\n",
        "\n",
        "def get_publishedDate_df(aggregate_posts):\n",
        "  aggregate_posts_yearly = aggregate_posts.resample('M').apply(sum)\n",
        "  date = pd.DataFrame(aggregate_posts_yearly.index)\n",
        "  date['invoice_date'] = date['invoice_date'].dt.strftime('%b')\n",
        "  total_aggregate_posts = pd.concat([aggregate_posts_yearly, date.set_index(aggregate_posts_yearly.index)], axis = 1)\n",
        "\n",
        "  return total_aggregate_posts\n",
        "\n",
        "total_aggregate_posts = get_publishedDate_df(time_grouping) \n",
        "bar_chart(total_aggregate_posts, 'No of orders placed(Monthly).')"
      ],
      "execution_count": null,
      "outputs": [
        {
          "output_type": "display_data",
          "data": {
            "image/png": "[encoded data removed]",
            "text/plain": [
              "<Figure size 1008x432 with 1 Axes>"
            ]
          },
          "metadata": {
            "needs_background": "light"
          }
        }
      ]
    },
    {
      "cell_type": "code",
      "metadata": {
        "id": "E0flmC2TK5ka"
      },
      "source": [
        "customers_and_transactions = commerce_data.groupby(by=['customer_id'], as_index=False)['invoice_num'].count()\n",
        "customers_and_transactions.rename(columns={'customer_id': 'customer_id', 'invoice_num': 'no_of_orders'}, inplace = True)"
      ],
      "execution_count": null,
      "outputs": []
    },
    {
      "cell_type": "code",
      "metadata": {
        "colab": {
          "base_uri": "https://localhost:8080/",
          "height": 418
        },
        "id": "dRGKJKz_8L9j",
        "outputId": "67bc8e55-b1f9-4ca1-bc28-b01ef013ac23"
      },
      "source": [
        "def visualize_plots(x_axis, y_axis):\n",
        "    \n",
        "  plt.subplots(figsize=(15,6))\n",
        "  plt.plot( x_axis, y_axis, color='cadetblue')\n",
        "  plt.xlabel('Customers ID')\n",
        "  plt.ylabel('Number of Orders')\n",
        "  plt.title('Number of Orders from different Customers')\n",
        "  plt.show()\n",
        "\n",
        "\n",
        "visualize_plots(customers_and_transactions.customer_id, customers_and_transactions.no_of_orders)"
      ],
      "execution_count": null,
      "outputs": [
        {
          "output_type": "display_data",
          "data": {
            "image/png": "[encoded data removed]",
            "text/plain": [
              "<Figure size 1080x432 with 1 Axes>"
            ]
          },
          "metadata": {
            "needs_background": "light"
          }
        }
      ]
    }
  ]
}